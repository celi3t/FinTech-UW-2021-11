{
 "cells": [
  {
   "cell_type": "markdown",
   "metadata": {},
   "source": [
    "# Dataframe to Database"
   ]
  },
  {
   "cell_type": "code",
   "execution_count": 1,
   "metadata": {},
   "outputs": [],
   "source": [
    "# Import the modules\n",
    "import pandas as pd\n",
    "import sqlalchemy as sql\n",
    "from pathlib import Path"
   ]
  },
  {
   "cell_type": "markdown",
   "metadata": {},
   "source": [
    "## Import the AMEX CSV file into a Pandas DataFrame"
   ]
  },
  {
   "cell_type": "code",
   "execution_count": 2,
   "metadata": {},
   "outputs": [
    {
     "data": {
      "text/html": [
       "<div>\n",
       "<style scoped>\n",
       "    .dataframe tbody tr th:only-of-type {\n",
       "        vertical-align: middle;\n",
       "    }\n",
       "\n",
       "    .dataframe tbody tr th {\n",
       "        vertical-align: top;\n",
       "    }\n",
       "\n",
       "    .dataframe thead th {\n",
       "        text-align: right;\n",
       "    }\n",
       "</style>\n",
       "<table border=\"1\" class=\"dataframe\">\n",
       "  <thead>\n",
       "    <tr style=\"text-align: right;\">\n",
       "      <th></th>\n",
       "      <th>Symbol</th>\n",
       "      <th>Name</th>\n",
       "      <th>LastSale</th>\n",
       "      <th>MarketCap</th>\n",
       "      <th>IPOyear</th>\n",
       "      <th>Sector</th>\n",
       "      <th>industry</th>\n",
       "      <th>Summary Quote</th>\n",
       "      <th>Unnamed: 8</th>\n",
       "    </tr>\n",
       "  </thead>\n",
       "  <tbody>\n",
       "    <tr>\n",
       "      <th>0</th>\n",
       "      <td>GOED</td>\n",
       "      <td>1847 Goedeker Inc.</td>\n",
       "      <td>6.6000</td>\n",
       "      <td>$40.33M</td>\n",
       "      <td>2020.0</td>\n",
       "      <td>Consumer Services</td>\n",
       "      <td>Home Furnishings</td>\n",
       "      <td>https://old.nasdaq.com/symbol/goed</td>\n",
       "      <td>NaN</td>\n",
       "    </tr>\n",
       "    <tr>\n",
       "      <th>1</th>\n",
       "      <td>XXII</td>\n",
       "      <td>22nd Century Group, Inc</td>\n",
       "      <td>0.6130</td>\n",
       "      <td>$85.12M</td>\n",
       "      <td>NaN</td>\n",
       "      <td>Consumer Non-Durables</td>\n",
       "      <td>Farming/Seeds/Milling</td>\n",
       "      <td>https://old.nasdaq.com/symbol/xxii</td>\n",
       "      <td>NaN</td>\n",
       "    </tr>\n",
       "    <tr>\n",
       "      <th>2</th>\n",
       "      <td>FAX</td>\n",
       "      <td>Aberdeen Asia-Pacific Income Fund Inc</td>\n",
       "      <td>3.9100</td>\n",
       "      <td>$968.49M</td>\n",
       "      <td>1986.0</td>\n",
       "      <td>NaN</td>\n",
       "      <td>NaN</td>\n",
       "      <td>https://old.nasdaq.com/symbol/fax</td>\n",
       "      <td>NaN</td>\n",
       "    </tr>\n",
       "    <tr>\n",
       "      <th>3</th>\n",
       "      <td>IAF</td>\n",
       "      <td>Aberdeen Australia Equity Fund Inc</td>\n",
       "      <td>4.5367</td>\n",
       "      <td>$103.18M</td>\n",
       "      <td>NaN</td>\n",
       "      <td>NaN</td>\n",
       "      <td>NaN</td>\n",
       "      <td>https://old.nasdaq.com/symbol/iaf</td>\n",
       "      <td>NaN</td>\n",
       "    </tr>\n",
       "    <tr>\n",
       "      <th>4</th>\n",
       "      <td>AEF</td>\n",
       "      <td>Aberdeen Emerging Markets Equity Income Fund, ...</td>\n",
       "      <td>6.4000</td>\n",
       "      <td>$324.81M</td>\n",
       "      <td>NaN</td>\n",
       "      <td>NaN</td>\n",
       "      <td>NaN</td>\n",
       "      <td>https://old.nasdaq.com/symbol/aef</td>\n",
       "      <td>NaN</td>\n",
       "    </tr>\n",
       "  </tbody>\n",
       "</table>\n",
       "</div>"
      ],
      "text/plain": [
       "  Symbol                                               Name  LastSale  \\\n",
       "0   GOED                                 1847 Goedeker Inc.    6.6000   \n",
       "1   XXII                            22nd Century Group, Inc    0.6130   \n",
       "2    FAX              Aberdeen Asia-Pacific Income Fund Inc    3.9100   \n",
       "3    IAF                 Aberdeen Australia Equity Fund Inc    4.5367   \n",
       "4    AEF  Aberdeen Emerging Markets Equity Income Fund, ...    6.4000   \n",
       "\n",
       "  MarketCap  IPOyear                 Sector               industry  \\\n",
       "0   $40.33M   2020.0      Consumer Services       Home Furnishings   \n",
       "1   $85.12M      NaN  Consumer Non-Durables  Farming/Seeds/Milling   \n",
       "2  $968.49M   1986.0                    NaN                    NaN   \n",
       "3  $103.18M      NaN                    NaN                    NaN   \n",
       "4  $324.81M      NaN                    NaN                    NaN   \n",
       "\n",
       "                        Summary Quote  Unnamed: 8  \n",
       "0  https://old.nasdaq.com/symbol/goed         NaN  \n",
       "1  https://old.nasdaq.com/symbol/xxii         NaN  \n",
       "2   https://old.nasdaq.com/symbol/fax         NaN  \n",
       "3   https://old.nasdaq.com/symbol/iaf         NaN  \n",
       "4   https://old.nasdaq.com/symbol/aef         NaN  "
      ]
     },
     "execution_count": 2,
     "metadata": {},
     "output_type": "execute_result"
    }
   ],
   "source": [
    "# Read AMEX data from the Resources folder into a Pandas DataFrame\n",
    "amex_df = pd.read_csv(\n",
    "    Path('../Resources/amex_companylist.csv')\n",
    ")\n",
    "\n",
    "# Review the Pandas DataFrame\n",
    "amex_df.head()"
   ]
  },
  {
   "cell_type": "markdown",
   "metadata": {},
   "source": [
    "## Create the Amex Database"
   ]
  },
  {
   "cell_type": "code",
   "execution_count": 3,
   "metadata": {},
   "outputs": [],
   "source": [
    "# Database connection string\n",
    "amex_connection_string = 'sqlite:///../Resources/amex.db'"
   ]
  },
  {
   "cell_type": "code",
   "execution_count": 4,
   "metadata": {},
   "outputs": [],
   "source": [
    "# Database engine\n",
    "amex_engine = sql.create_engine(amex_connection_string, echo=True)"
   ]
  },
  {
   "cell_type": "code",
   "execution_count": 5,
   "metadata": {},
   "outputs": [
    {
     "name": "stdout",
     "output_type": "stream",
     "text": [
      "2022-01-13 17:22:07,024 INFO sqlalchemy.engine.Engine PRAGMA main.table_info(\"AMEX\")\n",
      "2022-01-13 17:22:07,026 INFO sqlalchemy.engine.Engine [raw sql] ()\n",
      "2022-01-13 17:22:07,029 INFO sqlalchemy.engine.Engine PRAGMA main.table_info(\"AMEX\")\n",
      "2022-01-13 17:22:07,030 INFO sqlalchemy.engine.Engine [raw sql] ()\n",
      "2022-01-13 17:22:07,032 INFO sqlalchemy.engine.Engine SELECT name FROM sqlite_master WHERE type='table' ORDER BY name\n",
      "2022-01-13 17:22:07,033 INFO sqlalchemy.engine.Engine [raw sql] ()\n",
      "2022-01-13 17:22:07,035 INFO sqlalchemy.engine.Engine PRAGMA main.table_xinfo(\"AMEX\")\n",
      "2022-01-13 17:22:07,035 INFO sqlalchemy.engine.Engine [raw sql] ()\n",
      "2022-01-13 17:22:07,038 INFO sqlalchemy.engine.Engine SELECT sql FROM  (SELECT * FROM sqlite_master UNION ALL   SELECT * FROM sqlite_temp_master) WHERE name = ? AND type = 'table'\n",
      "2022-01-13 17:22:07,039 INFO sqlalchemy.engine.Engine [raw sql] ('AMEX',)\n",
      "2022-01-13 17:22:07,040 INFO sqlalchemy.engine.Engine PRAGMA main.foreign_key_list(\"AMEX\")\n",
      "2022-01-13 17:22:07,041 INFO sqlalchemy.engine.Engine [raw sql] ()\n",
      "2022-01-13 17:22:07,042 INFO sqlalchemy.engine.Engine PRAGMA temp.foreign_key_list(\"AMEX\")\n",
      "2022-01-13 17:22:07,042 INFO sqlalchemy.engine.Engine [raw sql] ()\n",
      "2022-01-13 17:22:07,043 INFO sqlalchemy.engine.Engine SELECT sql FROM  (SELECT * FROM sqlite_master UNION ALL   SELECT * FROM sqlite_temp_master) WHERE name = ? AND type = 'table'\n",
      "2022-01-13 17:22:07,043 INFO sqlalchemy.engine.Engine [raw sql] ('AMEX',)\n",
      "2022-01-13 17:22:07,045 INFO sqlalchemy.engine.Engine PRAGMA main.index_list(\"AMEX\")\n",
      "2022-01-13 17:22:07,046 INFO sqlalchemy.engine.Engine [raw sql] ()\n",
      "2022-01-13 17:22:07,047 INFO sqlalchemy.engine.Engine PRAGMA temp.index_list(\"AMEX\")\n",
      "2022-01-13 17:22:07,047 INFO sqlalchemy.engine.Engine [raw sql] ()\n",
      "2022-01-13 17:22:07,048 INFO sqlalchemy.engine.Engine PRAGMA main.index_list(\"AMEX\")\n",
      "2022-01-13 17:22:07,049 INFO sqlalchemy.engine.Engine [raw sql] ()\n",
      "2022-01-13 17:22:07,049 INFO sqlalchemy.engine.Engine PRAGMA temp.index_list(\"AMEX\")\n",
      "2022-01-13 17:22:07,050 INFO sqlalchemy.engine.Engine [raw sql] ()\n",
      "2022-01-13 17:22:07,050 INFO sqlalchemy.engine.Engine SELECT sql FROM  (SELECT * FROM sqlite_master UNION ALL   SELECT * FROM sqlite_temp_master) WHERE name = ? AND type = 'table'\n",
      "2022-01-13 17:22:07,051 INFO sqlalchemy.engine.Engine [raw sql] ('AMEX',)\n",
      "2022-01-13 17:22:07,053 INFO sqlalchemy.engine.Engine BEGIN (implicit)\n",
      "2022-01-13 17:22:07,054 INFO sqlalchemy.engine.Engine \n",
      "DROP TABLE \"AMEX\"\n",
      "2022-01-13 17:22:07,055 INFO sqlalchemy.engine.Engine [no key 0.00044s] ()\n",
      "2022-01-13 17:22:07,057 INFO sqlalchemy.engine.Engine COMMIT\n",
      "2022-01-13 17:22:07,060 INFO sqlalchemy.engine.Engine BEGIN (implicit)\n",
      "2022-01-13 17:22:07,063 INFO sqlalchemy.engine.Engine \n",
      "CREATE TABLE \"AMEX\" (\n",
      "\t\"Symbol\" TEXT, \n",
      "\t\"Name\" TEXT, \n",
      "\t\"LastSale\" FLOAT, \n",
      "\t\"MarketCap\" TEXT, \n",
      "\t\"IPOyear\" FLOAT, \n",
      "\t\"Sector\" TEXT, \n",
      "\tindustry TEXT, \n",
      "\t\"Summary Quote\" TEXT, \n",
      "\t\"Unnamed: 8\" FLOAT\n",
      ")\n",
      "\n",
      "\n",
      "2022-01-13 17:22:07,064 INFO sqlalchemy.engine.Engine [no key 0.00090s] ()\n",
      "2022-01-13 17:22:07,066 INFO sqlalchemy.engine.Engine COMMIT\n",
      "2022-01-13 17:22:07,068 INFO sqlalchemy.engine.Engine BEGIN (implicit)\n",
      "2022-01-13 17:22:07,074 INFO sqlalchemy.engine.Engine INSERT INTO \"AMEX\" (\"Symbol\", \"Name\", \"LastSale\", \"MarketCap\", \"IPOyear\", \"Sector\", industry, \"Summary Quote\", \"Unnamed: 8\") VALUES (?, ?, ?, ?, ?, ?, ?, ?, ?)\n",
      "2022-01-13 17:22:07,075 INFO sqlalchemy.engine.Engine [generated in 0.00450s] (('GOED', '1847 Goedeker Inc.', 6.6, '$40.33M', 2020.0, 'Consumer Services', 'Home Furnishings', 'https://old.nasdaq.com/symbol/goed', None), ('XXII', '22nd Century Group, Inc', 0.613, '$85.12M', None, 'Consumer Non-Durables', 'Farming/Seeds/Milling', 'https://old.nasdaq.com/symbol/xxii', None), ('FAX', 'Aberdeen Asia-Pacific Income Fund Inc', 3.91, '$968.49M', 1986.0, None, None, 'https://old.nasdaq.com/symbol/fax', None), ('IAF', 'Aberdeen Australia Equity Fund Inc', 4.5367, '$103.18M', None, None, None, 'https://old.nasdaq.com/symbol/iaf', None), ('AEF', 'Aberdeen Emerging Markets Equity Income Fund, Inc.', 6.4, '$324.81M', None, None, None, 'https://old.nasdaq.com/symbol/aef', None), ('FCO', 'Aberdeen Global Income Fund, Inc.', 6.58, '$57.41M', 1992.0, None, None, 'https://old.nasdaq.com/symbol/fco', None), ('ACU', 'Acme United Corporation.', 22.05, '$73.57M', 1988.0, 'Capital Goods', 'Industrial Machinery/Components', 'https://old.nasdaq.com/symbol/acu', None), ('ATNM', 'Actinium Pharmaceuticals, Inc.', 8.77, '$119.14M', None, 'Health Care', 'Major Pharmaceuticals', 'https://old.nasdaq.com/symbol/atnm', None)  ... displaying 10 of 293 total bound parameter sets ...  ('ZDGE', 'Zedge, Inc.', 1.51, '$18.42M', 2016.0, 'Technology', 'Computer Software: Prepackaged Software', 'https://old.nasdaq.com/symbol/zdge', None), ('ZOM', 'Zomedica Pharmaceuticals Corp.', 0.1026, '$57.87M', 2017.0, 'Health Care', 'Major Pharmaceuticals', 'https://old.nasdaq.com/symbol/zom', None))\n",
      "2022-01-13 17:22:07,083 INFO sqlalchemy.engine.Engine COMMIT\n",
      "2022-01-13 17:22:07,085 INFO sqlalchemy.engine.Engine SELECT name FROM sqlite_master WHERE type='table' ORDER BY name\n",
      "2022-01-13 17:22:07,085 INFO sqlalchemy.engine.Engine [raw sql] ()\n"
     ]
    }
   ],
   "source": [
    "# Add the AMEX dataframe to the database as a table.\n",
    "amex_df.to_sql('AMEX', amex_engine,index=False, if_exists='replace')"
   ]
  },
  {
   "cell_type": "code",
   "execution_count": 6,
   "metadata": {},
   "outputs": [
    {
     "name": "stdout",
     "output_type": "stream",
     "text": [
      "2022-01-13 17:22:12,310 INFO sqlalchemy.engine.Engine SELECT name FROM sqlite_master WHERE type='table' ORDER BY name\n",
      "2022-01-13 17:22:12,311 INFO sqlalchemy.engine.Engine [raw sql] ()\n"
     ]
    },
    {
     "name": "stderr",
     "output_type": "stream",
     "text": [
      "/Users/celeste/opt/anaconda3/lib/python3.7/site-packages/ipykernel_launcher.py:2: SADeprecationWarning: The Engine.table_names() method is deprecated and will be removed in a future release.  Please refer to Inspector.get_table_names(). (deprecated since: 1.4)\n",
      "  \n"
     ]
    },
    {
     "data": {
      "text/plain": [
       "['AMEX', 'AMEX_SYMBOLS']"
      ]
     },
     "execution_count": 6,
     "metadata": {},
     "output_type": "execute_result"
    }
   ],
   "source": [
    "# Get the table names from the database\n",
    "amex_engine.table_names()"
   ]
  },
  {
   "cell_type": "code",
   "execution_count": 7,
   "metadata": {},
   "outputs": [],
   "source": [
    "# Create a dataframe from a subset of the columns\n",
    "amex_symbols_df = amex_df[['Symbol','Name']]"
   ]
  },
  {
   "cell_type": "code",
   "execution_count": 8,
   "metadata": {},
   "outputs": [
    {
     "name": "stdout",
     "output_type": "stream",
     "text": [
      "2022-01-13 17:22:14,136 INFO sqlalchemy.engine.Engine PRAGMA main.table_info(\"AMEX_SYMBOLS\")\n",
      "2022-01-13 17:22:14,136 INFO sqlalchemy.engine.Engine [raw sql] ()\n",
      "2022-01-13 17:22:14,139 INFO sqlalchemy.engine.Engine PRAGMA main.table_info(\"AMEX_SYMBOLS\")\n",
      "2022-01-13 17:22:14,140 INFO sqlalchemy.engine.Engine [raw sql] ()\n",
      "2022-01-13 17:22:14,143 INFO sqlalchemy.engine.Engine SELECT name FROM sqlite_master WHERE type='table' ORDER BY name\n",
      "2022-01-13 17:22:14,144 INFO sqlalchemy.engine.Engine [raw sql] ()\n",
      "2022-01-13 17:22:14,145 INFO sqlalchemy.engine.Engine PRAGMA main.table_xinfo(\"AMEX_SYMBOLS\")\n",
      "2022-01-13 17:22:14,146 INFO sqlalchemy.engine.Engine [raw sql] ()\n",
      "2022-01-13 17:22:14,147 INFO sqlalchemy.engine.Engine SELECT sql FROM  (SELECT * FROM sqlite_master UNION ALL   SELECT * FROM sqlite_temp_master) WHERE name = ? AND type = 'table'\n",
      "2022-01-13 17:22:14,148 INFO sqlalchemy.engine.Engine [raw sql] ('AMEX_SYMBOLS',)\n",
      "2022-01-13 17:22:14,149 INFO sqlalchemy.engine.Engine PRAGMA main.foreign_key_list(\"AMEX_SYMBOLS\")\n",
      "2022-01-13 17:22:14,150 INFO sqlalchemy.engine.Engine [raw sql] ()\n",
      "2022-01-13 17:22:14,151 INFO sqlalchemy.engine.Engine PRAGMA temp.foreign_key_list(\"AMEX_SYMBOLS\")\n",
      "2022-01-13 17:22:14,152 INFO sqlalchemy.engine.Engine [raw sql] ()\n",
      "2022-01-13 17:22:14,153 INFO sqlalchemy.engine.Engine SELECT sql FROM  (SELECT * FROM sqlite_master UNION ALL   SELECT * FROM sqlite_temp_master) WHERE name = ? AND type = 'table'\n",
      "2022-01-13 17:22:14,153 INFO sqlalchemy.engine.Engine [raw sql] ('AMEX_SYMBOLS',)\n",
      "2022-01-13 17:22:14,154 INFO sqlalchemy.engine.Engine PRAGMA main.index_list(\"AMEX_SYMBOLS\")\n",
      "2022-01-13 17:22:14,154 INFO sqlalchemy.engine.Engine [raw sql] ()\n",
      "2022-01-13 17:22:14,155 INFO sqlalchemy.engine.Engine PRAGMA temp.index_list(\"AMEX_SYMBOLS\")\n",
      "2022-01-13 17:22:14,156 INFO sqlalchemy.engine.Engine [raw sql] ()\n",
      "2022-01-13 17:22:14,157 INFO sqlalchemy.engine.Engine PRAGMA main.index_list(\"AMEX_SYMBOLS\")\n",
      "2022-01-13 17:22:14,157 INFO sqlalchemy.engine.Engine [raw sql] ()\n",
      "2022-01-13 17:22:14,158 INFO sqlalchemy.engine.Engine PRAGMA temp.index_list(\"AMEX_SYMBOLS\")\n",
      "2022-01-13 17:22:14,159 INFO sqlalchemy.engine.Engine [raw sql] ()\n",
      "2022-01-13 17:22:14,160 INFO sqlalchemy.engine.Engine SELECT sql FROM  (SELECT * FROM sqlite_master UNION ALL   SELECT * FROM sqlite_temp_master) WHERE name = ? AND type = 'table'\n",
      "2022-01-13 17:22:14,161 INFO sqlalchemy.engine.Engine [raw sql] ('AMEX_SYMBOLS',)\n",
      "2022-01-13 17:22:14,162 INFO sqlalchemy.engine.Engine BEGIN (implicit)\n",
      "2022-01-13 17:22:14,163 INFO sqlalchemy.engine.Engine \n",
      "DROP TABLE \"AMEX_SYMBOLS\"\n",
      "2022-01-13 17:22:14,163 INFO sqlalchemy.engine.Engine [no key 0.00049s] ()\n",
      "2022-01-13 17:22:14,165 INFO sqlalchemy.engine.Engine COMMIT\n",
      "2022-01-13 17:22:14,166 INFO sqlalchemy.engine.Engine BEGIN (implicit)\n",
      "2022-01-13 17:22:14,167 INFO sqlalchemy.engine.Engine \n",
      "CREATE TABLE \"AMEX_SYMBOLS\" (\n",
      "\t\"Symbol\" TEXT, \n",
      "\t\"Name\" TEXT\n",
      ")\n",
      "\n",
      "\n",
      "2022-01-13 17:22:14,168 INFO sqlalchemy.engine.Engine [no key 0.00047s] ()\n",
      "2022-01-13 17:22:14,169 INFO sqlalchemy.engine.Engine COMMIT\n",
      "2022-01-13 17:22:14,171 INFO sqlalchemy.engine.Engine BEGIN (implicit)\n",
      "2022-01-13 17:22:14,174 INFO sqlalchemy.engine.Engine INSERT INTO \"AMEX_SYMBOLS\" (\"Symbol\", \"Name\") VALUES (?, ?)\n",
      "2022-01-13 17:22:14,175 INFO sqlalchemy.engine.Engine [generated in 0.00224s] (('GOED', '1847 Goedeker Inc.'), ('XXII', '22nd Century Group, Inc'), ('FAX', 'Aberdeen Asia-Pacific Income Fund Inc'), ('IAF', 'Aberdeen Australia Equity Fund Inc'), ('AEF', 'Aberdeen Emerging Markets Equity Income Fund, Inc.'), ('FCO', 'Aberdeen Global Income Fund, Inc.'), ('ACU', 'Acme United Corporation.'), ('ATNM', 'Actinium Pharmaceuticals, Inc.')  ... displaying 10 of 293 total bound parameter sets ...  ('ZDGE', 'Zedge, Inc.'), ('ZOM', 'Zomedica Pharmaceuticals Corp.'))\n",
      "2022-01-13 17:22:14,179 INFO sqlalchemy.engine.Engine COMMIT\n",
      "2022-01-13 17:22:14,181 INFO sqlalchemy.engine.Engine SELECT name FROM sqlite_master WHERE type='table' ORDER BY name\n",
      "2022-01-13 17:22:14,181 INFO sqlalchemy.engine.Engine [raw sql] ()\n"
     ]
    }
   ],
   "source": [
    "# Create a table from the dataframe\n",
    "amex_symbols_df.to_sql('AMEX_SYMBOLS', amex_engine, index=False, if_exists='replace')"
   ]
  },
  {
   "cell_type": "code",
   "execution_count": 9,
   "metadata": {},
   "outputs": [
    {
     "name": "stdout",
     "output_type": "stream",
     "text": [
      "2022-01-13 17:22:18,726 INFO sqlalchemy.engine.Engine SELECT name FROM sqlite_master WHERE type='table' ORDER BY name\n",
      "2022-01-13 17:22:18,727 INFO sqlalchemy.engine.Engine [raw sql] ()\n"
     ]
    },
    {
     "data": {
      "text/plain": [
       "['AMEX', 'AMEX_SYMBOLS']"
      ]
     },
     "execution_count": 9,
     "metadata": {},
     "output_type": "execute_result"
    }
   ],
   "source": [
    "# Get the table names from the database\n",
    "sql.inspect(amex_engine).get_table_names()"
   ]
  },
  {
   "cell_type": "markdown",
   "metadata": {},
   "source": [
    "## Reading SQL Tables into DataFrames"
   ]
  },
  {
   "cell_type": "markdown",
   "metadata": {},
   "source": [
    "### Import the NASDAQ database"
   ]
  },
  {
   "cell_type": "code",
   "execution_count": null,
   "metadata": {},
   "outputs": [],
   "source": [
    "# Database connection string\n",
    "nasdaq_connection_string = 'sqlite:///../Resources/nasdaq.db'"
   ]
  },
  {
   "cell_type": "code",
   "execution_count": null,
   "metadata": {},
   "outputs": [],
   "source": [
    "# Database engine\n",
    "nasdaq_engine = sql.create_engine(nasdaq_connection_string, echo=True)"
   ]
  },
  {
   "cell_type": "code",
   "execution_count": null,
   "metadata": {},
   "outputs": [],
   "source": [
    "# Get the table names from the database\n",
    "nasdaq_engine.table_names()"
   ]
  },
  {
   "cell_type": "markdown",
   "metadata": {},
   "source": [
    "## Read in the NASDAQ table into a Pandas DataFrame"
   ]
  },
  {
   "cell_type": "code",
   "execution_count": null,
   "metadata": {},
   "outputs": [],
   "source": [
    "# Create a dataframe from the table 'NASDAQ'\n",
    "nasdaq_df = pd.read_sql_table('NASDAQ', nasdaq_engine)"
   ]
  },
  {
   "cell_type": "code",
   "execution_count": null,
   "metadata": {},
   "outputs": [],
   "source": [
    "# Review the Pandas DataFrame\n",
    "nasdaq_df.head()"
   ]
  },
  {
   "cell_type": "markdown",
   "metadata": {},
   "source": [
    "## Reading SQL Queries into DataFrames"
   ]
  },
  {
   "cell_type": "code",
   "execution_count": null,
   "metadata": {},
   "outputs": [],
   "source": [
    "# Select all symbols and names from the Finance sector\n",
    "sql_query = \"\"\"\n",
    "SELECT symbol, name\n",
    "FROM NASDAQ\n",
    "WHERE industry LIKE 'Finance%'\n",
    "\"\"\""
   ]
  },
  {
   "cell_type": "code",
   "execution_count": null,
   "metadata": {},
   "outputs": [],
   "source": [
    "# Create a DataFrame from a SQL query\n",
    "nasdaq_finance_symbols = pd.read_sql_query(sql_query, nasdaq_engine, index_col='Symbol')"
   ]
  },
  {
   "cell_type": "code",
   "execution_count": null,
   "metadata": {},
   "outputs": [],
   "source": [
    "# Review the DataFrame\n",
    "nasdaq_finance_symbols.head()"
   ]
  },
  {
   "cell_type": "code",
   "execution_count": null,
   "metadata": {},
   "outputs": [],
   "source": []
  }
 ],
 "metadata": {
  "kernelspec": {
   "display_name": "Python 3 (ipykernel)",
   "language": "python",
   "name": "python3"
  },
  "language_info": {
   "codemirror_mode": {
    "name": "ipython",
    "version": 3
   },
   "file_extension": ".py",
   "mimetype": "text/x-python",
   "name": "python",
   "nbconvert_exporter": "python",
   "pygments_lexer": "ipython3",
   "version": "3.7.9"
  }
 },
 "nbformat": 4,
 "nbformat_minor": 4
}
